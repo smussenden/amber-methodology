{
 "cells": [
  {
   "cell_type": "markdown",
   "metadata": {},
   "source": [
    "# Amber mine detector\n",
    "Overview. Steps."
   ]
  },
  {
   "cell_type": "markdown",
   "metadata": {},
   "source": [
    "## Set up a virtual environment? \n",
    "Because many of you had issues install packages, I'm going to suggest you set up a virtual environment in this repo. Instead of installing packages in a system folder, they get installed here, which helps. \n",
    "\n",
    "### Directions"
   ]
  },
  {
   "cell_type": "code",
   "execution_count": null,
   "metadata": {},
   "outputs": [],
   "source": [
    "# Set up "
   ]
  },
  {
   "cell_type": "markdown",
   "metadata": {},
   "source": [
    "# Install Packages\n",
    "Will need to pip install \n",
    "If run into problems, follow these steps to set up virtual environment and install there.\n"
   ]
  },
  {
   "cell_type": "code",
   "execution_count": null,
   "metadata": {},
   "outputs": [],
   "source": [
    "###\n",
    "# Install packages\n",
    "###\n",
    "\n",
    "import matplotlib \n",
    "import numpy\n",
    "\n",
    "# pip install scikit-image\n",
    "import skimage\n",
    "# pip install scikit-learn\n",
    "import sklearn\n",
    "\n",
    "import scipy\n",
    "import PIL\n",
    "import os\n",
    "\n",
    "#from PIL import Image\n",
    "#import matplotlib.pyplot as plt\n",
    "#import numpy as np\n",
    "#from skimage import io\n",
    "#from skimage.segmentation import slic # how to split an image\n",
    "#from skimage.segmentation import mark_boundaries\n",
    "#from skimage.util import img_as_float\n",
    "#from scipy import misc\n",
    "#from scipy import ndimage\n",
    "#from PIL import Image\n",
    "#from skimage.measure import regionprops\n",
    "#from os import listdir\n",
    "#from os.path import isfile, join\n"
   ]
  }
 ],
 "metadata": {
  "kernelspec": {
   "display_name": "venv",
   "language": "python",
   "name": "python3"
  },
  "language_info": {
   "name": "python",
   "version": "3.12.6"
  }
 },
 "nbformat": 4,
 "nbformat_minor": 2
}
